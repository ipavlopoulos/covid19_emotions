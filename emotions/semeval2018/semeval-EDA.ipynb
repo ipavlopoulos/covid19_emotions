{
 "cells": [
  {
   "cell_type": "code",
   "execution_count": 1,
   "metadata": {},
   "outputs": [],
   "source": [
    "import numpy as np\n",
    "import pandas as pd\n",
    "import os\n",
    "import matplotlib.pyplot as plt\n",
    "from nltk.tokenize import TweetTokenizer"
   ]
  },
  {
   "cell_type": "code",
   "execution_count": 2,
   "metadata": {},
   "outputs": [],
   "source": [
    "tweet_tokenizer = TweetTokenizer(preserve_case=False, strip_handles=True, reduce_len=True)\n",
    "\n",
    "def tokenize(tweet):\n",
    "    return tweet_tokenizer.tokenize(tweet)"
   ]
  },
  {
   "cell_type": "code",
   "execution_count": 3,
   "metadata": {},
   "outputs": [],
   "source": [
    "train_path='SemEval2018-Task1-all-data/SemEval2018-Task1-all-data/English/E-c/2018-E-c-En-train.txt'\n",
    "test_path='SemEval2018-Task1-all-data/SemEval2018-Task1-all-data/English/E-c/2018-E-c-En-dev.txt'"
   ]
  },
  {
   "cell_type": "code",
   "execution_count": 4,
   "metadata": {},
   "outputs": [],
   "source": [
    "train = pd.read_csv(train_path, sep='\\t')\n",
    "test = pd.read_csv(test_path, sep='\\t')"
   ]
  },
  {
   "cell_type": "code",
   "execution_count": 5,
   "metadata": {},
   "outputs": [
    {
     "data": {
      "text/plain": [
       "6838"
      ]
     },
     "execution_count": 5,
     "metadata": {},
     "output_type": "execute_result"
    }
   ],
   "source": [
    "len(train)"
   ]
  },
  {
   "cell_type": "code",
   "execution_count": 6,
   "metadata": {},
   "outputs": [
    {
     "data": {
      "text/plain": [
       "886"
      ]
     },
     "execution_count": 6,
     "metadata": {},
     "output_type": "execute_result"
    }
   ],
   "source": [
    "len(test)"
   ]
  },
  {
   "cell_type": "code",
   "execution_count": 7,
   "metadata": {},
   "outputs": [
    {
     "data": {
      "text/plain": [
       "Index(['ID', 'Tweet', 'anger', 'anticipation', 'disgust', 'fear', 'joy',\n",
       "       'love', 'optimism', 'pessimism', 'sadness', 'surprise', 'trust'],\n",
       "      dtype='object')"
      ]
     },
     "execution_count": 7,
     "metadata": {},
     "output_type": "execute_result"
    }
   ],
   "source": [
    "train.columns"
   ]
  },
  {
   "cell_type": "code",
   "execution_count": 8,
   "metadata": {},
   "outputs": [
    {
     "data": {
      "text/plain": [
       "Index(['ID', 'Tweet', 'anger', 'anticipation', 'disgust', 'fear', 'joy',\n",
       "       'love', 'optimism', 'pessimism', 'sadness', 'surprise', 'trust'],\n",
       "      dtype='object')"
      ]
     },
     "execution_count": 8,
     "metadata": {},
     "output_type": "execute_result"
    }
   ],
   "source": [
    "test.columns"
   ]
  },
  {
   "cell_type": "code",
   "execution_count": 9,
   "metadata": {},
   "outputs": [],
   "source": [
    "train['tokens'] = train['Tweet'].map(lambda x: tokenize(x))"
   ]
  },
  {
   "cell_type": "code",
   "execution_count": 10,
   "metadata": {},
   "outputs": [],
   "source": [
    "test['tokens'] = test['Tweet'].map(lambda x: tokenize(x))"
   ]
  },
  {
   "cell_type": "code",
   "execution_count": 11,
   "metadata": {},
   "outputs": [],
   "source": [
    "train['lengths'] = train['tokens'].map(lambda x: len(x))\n",
    "test['lengths'] = test['tokens'].map(lambda x: len(x))"
   ]
  },
  {
   "cell_type": "code",
   "execution_count": 12,
   "metadata": {},
   "outputs": [
    {
     "data": {
      "text/html": [
       "<div>\n",
       "<style scoped>\n",
       "    .dataframe tbody tr th:only-of-type {\n",
       "        vertical-align: middle;\n",
       "    }\n",
       "\n",
       "    .dataframe tbody tr th {\n",
       "        vertical-align: top;\n",
       "    }\n",
       "\n",
       "    .dataframe thead th {\n",
       "        text-align: right;\n",
       "    }\n",
       "</style>\n",
       "<table border=\"1\" class=\"dataframe\">\n",
       "  <thead>\n",
       "    <tr style=\"text-align: right;\">\n",
       "      <th></th>\n",
       "      <th>anger</th>\n",
       "      <th>anticipation</th>\n",
       "      <th>disgust</th>\n",
       "      <th>fear</th>\n",
       "      <th>joy</th>\n",
       "      <th>love</th>\n",
       "      <th>optimism</th>\n",
       "      <th>pessimism</th>\n",
       "      <th>sadness</th>\n",
       "      <th>surprise</th>\n",
       "      <th>trust</th>\n",
       "      <th>lengths</th>\n",
       "    </tr>\n",
       "  </thead>\n",
       "  <tbody>\n",
       "    <tr>\n",
       "      <td>count</td>\n",
       "      <td>6838.000000</td>\n",
       "      <td>6838.000000</td>\n",
       "      <td>6838.000000</td>\n",
       "      <td>6838.000000</td>\n",
       "      <td>6838.000000</td>\n",
       "      <td>6838.000000</td>\n",
       "      <td>6838.000000</td>\n",
       "      <td>6838.000000</td>\n",
       "      <td>6838.000000</td>\n",
       "      <td>6838.000000</td>\n",
       "      <td>6838.000000</td>\n",
       "      <td>6838.000000</td>\n",
       "    </tr>\n",
       "    <tr>\n",
       "      <td>mean</td>\n",
       "      <td>0.372039</td>\n",
       "      <td>0.143024</td>\n",
       "      <td>0.380521</td>\n",
       "      <td>0.181632</td>\n",
       "      <td>0.362240</td>\n",
       "      <td>0.102369</td>\n",
       "      <td>0.290143</td>\n",
       "      <td>0.116262</td>\n",
       "      <td>0.293653</td>\n",
       "      <td>0.052793</td>\n",
       "      <td>0.052208</td>\n",
       "      <td>17.670371</td>\n",
       "    </tr>\n",
       "    <tr>\n",
       "      <td>std</td>\n",
       "      <td>0.483384</td>\n",
       "      <td>0.350123</td>\n",
       "      <td>0.485550</td>\n",
       "      <td>0.385569</td>\n",
       "      <td>0.480683</td>\n",
       "      <td>0.303155</td>\n",
       "      <td>0.453862</td>\n",
       "      <td>0.320562</td>\n",
       "      <td>0.455468</td>\n",
       "      <td>0.223637</td>\n",
       "      <td>0.222463</td>\n",
       "      <td>7.760106</td>\n",
       "    </tr>\n",
       "    <tr>\n",
       "      <td>min</td>\n",
       "      <td>0.000000</td>\n",
       "      <td>0.000000</td>\n",
       "      <td>0.000000</td>\n",
       "      <td>0.000000</td>\n",
       "      <td>0.000000</td>\n",
       "      <td>0.000000</td>\n",
       "      <td>0.000000</td>\n",
       "      <td>0.000000</td>\n",
       "      <td>0.000000</td>\n",
       "      <td>0.000000</td>\n",
       "      <td>0.000000</td>\n",
       "      <td>1.000000</td>\n",
       "    </tr>\n",
       "    <tr>\n",
       "      <td>25%</td>\n",
       "      <td>0.000000</td>\n",
       "      <td>0.000000</td>\n",
       "      <td>0.000000</td>\n",
       "      <td>0.000000</td>\n",
       "      <td>0.000000</td>\n",
       "      <td>0.000000</td>\n",
       "      <td>0.000000</td>\n",
       "      <td>0.000000</td>\n",
       "      <td>0.000000</td>\n",
       "      <td>0.000000</td>\n",
       "      <td>0.000000</td>\n",
       "      <td>11.000000</td>\n",
       "    </tr>\n",
       "    <tr>\n",
       "      <td>50%</td>\n",
       "      <td>0.000000</td>\n",
       "      <td>0.000000</td>\n",
       "      <td>0.000000</td>\n",
       "      <td>0.000000</td>\n",
       "      <td>0.000000</td>\n",
       "      <td>0.000000</td>\n",
       "      <td>0.000000</td>\n",
       "      <td>0.000000</td>\n",
       "      <td>0.000000</td>\n",
       "      <td>0.000000</td>\n",
       "      <td>0.000000</td>\n",
       "      <td>18.000000</td>\n",
       "    </tr>\n",
       "    <tr>\n",
       "      <td>75%</td>\n",
       "      <td>1.000000</td>\n",
       "      <td>0.000000</td>\n",
       "      <td>1.000000</td>\n",
       "      <td>0.000000</td>\n",
       "      <td>1.000000</td>\n",
       "      <td>0.000000</td>\n",
       "      <td>1.000000</td>\n",
       "      <td>0.000000</td>\n",
       "      <td>1.000000</td>\n",
       "      <td>0.000000</td>\n",
       "      <td>0.000000</td>\n",
       "      <td>24.000000</td>\n",
       "    </tr>\n",
       "    <tr>\n",
       "      <td>max</td>\n",
       "      <td>1.000000</td>\n",
       "      <td>1.000000</td>\n",
       "      <td>1.000000</td>\n",
       "      <td>1.000000</td>\n",
       "      <td>1.000000</td>\n",
       "      <td>1.000000</td>\n",
       "      <td>1.000000</td>\n",
       "      <td>1.000000</td>\n",
       "      <td>1.000000</td>\n",
       "      <td>1.000000</td>\n",
       "      <td>1.000000</td>\n",
       "      <td>50.000000</td>\n",
       "    </tr>\n",
       "  </tbody>\n",
       "</table>\n",
       "</div>"
      ],
      "text/plain": [
       "             anger  anticipation      disgust         fear          joy  \\\n",
       "count  6838.000000   6838.000000  6838.000000  6838.000000  6838.000000   \n",
       "mean      0.372039      0.143024     0.380521     0.181632     0.362240   \n",
       "std       0.483384      0.350123     0.485550     0.385569     0.480683   \n",
       "min       0.000000      0.000000     0.000000     0.000000     0.000000   \n",
       "25%       0.000000      0.000000     0.000000     0.000000     0.000000   \n",
       "50%       0.000000      0.000000     0.000000     0.000000     0.000000   \n",
       "75%       1.000000      0.000000     1.000000     0.000000     1.000000   \n",
       "max       1.000000      1.000000     1.000000     1.000000     1.000000   \n",
       "\n",
       "              love     optimism    pessimism      sadness     surprise  \\\n",
       "count  6838.000000  6838.000000  6838.000000  6838.000000  6838.000000   \n",
       "mean      0.102369     0.290143     0.116262     0.293653     0.052793   \n",
       "std       0.303155     0.453862     0.320562     0.455468     0.223637   \n",
       "min       0.000000     0.000000     0.000000     0.000000     0.000000   \n",
       "25%       0.000000     0.000000     0.000000     0.000000     0.000000   \n",
       "50%       0.000000     0.000000     0.000000     0.000000     0.000000   \n",
       "75%       0.000000     1.000000     0.000000     1.000000     0.000000   \n",
       "max       1.000000     1.000000     1.000000     1.000000     1.000000   \n",
       "\n",
       "             trust      lengths  \n",
       "count  6838.000000  6838.000000  \n",
       "mean      0.052208    17.670371  \n",
       "std       0.222463     7.760106  \n",
       "min       0.000000     1.000000  \n",
       "25%       0.000000    11.000000  \n",
       "50%       0.000000    18.000000  \n",
       "75%       0.000000    24.000000  \n",
       "max       1.000000    50.000000  "
      ]
     },
     "execution_count": 12,
     "metadata": {},
     "output_type": "execute_result"
    }
   ],
   "source": [
    "train.describe()"
   ]
  },
  {
   "cell_type": "markdown",
   "metadata": {},
   "source": [
    "# Correlation Among Emotions\n"
   ]
  },
  {
   "cell_type": "code",
   "execution_count": 13,
   "metadata": {},
   "outputs": [
    {
     "data": {
      "text/html": [
       "<div>\n",
       "<style scoped>\n",
       "    .dataframe tbody tr th:only-of-type {\n",
       "        vertical-align: middle;\n",
       "    }\n",
       "\n",
       "    .dataframe tbody tr th {\n",
       "        vertical-align: top;\n",
       "    }\n",
       "\n",
       "    .dataframe thead th {\n",
       "        text-align: right;\n",
       "    }\n",
       "</style>\n",
       "<table border=\"1\" class=\"dataframe\">\n",
       "  <thead>\n",
       "    <tr style=\"text-align: right;\">\n",
       "      <th></th>\n",
       "      <th>anger</th>\n",
       "      <th>anticipation</th>\n",
       "      <th>disgust</th>\n",
       "      <th>fear</th>\n",
       "      <th>joy</th>\n",
       "      <th>love</th>\n",
       "      <th>optimism</th>\n",
       "      <th>pessimism</th>\n",
       "      <th>sadness</th>\n",
       "      <th>surprise</th>\n",
       "      <th>trust</th>\n",
       "      <th>lengths</th>\n",
       "    </tr>\n",
       "  </thead>\n",
       "  <tbody>\n",
       "    <tr>\n",
       "      <td>anger</td>\n",
       "      <td>1.000000</td>\n",
       "      <td>-0.170124</td>\n",
       "      <td>0.682969</td>\n",
       "      <td>-0.047142</td>\n",
       "      <td>-0.442866</td>\n",
       "      <td>-0.242966</td>\n",
       "      <td>-0.374092</td>\n",
       "      <td>-0.036596</td>\n",
       "      <td>0.078355</td>\n",
       "      <td>-0.055887</td>\n",
       "      <td>-0.150728</td>\n",
       "      <td>0.052817</td>\n",
       "    </tr>\n",
       "    <tr>\n",
       "      <td>anticipation</td>\n",
       "      <td>-0.170124</td>\n",
       "      <td>1.000000</td>\n",
       "      <td>-0.152412</td>\n",
       "      <td>-0.019108</td>\n",
       "      <td>0.081457</td>\n",
       "      <td>-0.037367</td>\n",
       "      <td>0.130001</td>\n",
       "      <td>-0.064773</td>\n",
       "      <td>-0.123996</td>\n",
       "      <td>0.118370</td>\n",
       "      <td>0.123825</td>\n",
       "      <td>0.019885</td>\n",
       "    </tr>\n",
       "    <tr>\n",
       "      <td>disgust</td>\n",
       "      <td>0.682969</td>\n",
       "      <td>-0.152412</td>\n",
       "      <td>1.000000</td>\n",
       "      <td>0.003432</td>\n",
       "      <td>-0.457816</td>\n",
       "      <td>-0.249769</td>\n",
       "      <td>-0.407485</td>\n",
       "      <td>0.035226</td>\n",
       "      <td>0.159333</td>\n",
       "      <td>-0.053027</td>\n",
       "      <td>-0.162280</td>\n",
       "      <td>0.046841</td>\n",
       "    </tr>\n",
       "    <tr>\n",
       "      <td>fear</td>\n",
       "      <td>-0.047142</td>\n",
       "      <td>-0.019108</td>\n",
       "      <td>0.003432</td>\n",
       "      <td>1.000000</td>\n",
       "      <td>-0.235887</td>\n",
       "      <td>-0.134069</td>\n",
       "      <td>-0.175820</td>\n",
       "      <td>0.104849</td>\n",
       "      <td>0.066865</td>\n",
       "      <td>-0.012839</td>\n",
       "      <td>-0.062824</td>\n",
       "      <td>-0.001643</td>\n",
       "    </tr>\n",
       "    <tr>\n",
       "      <td>joy</td>\n",
       "      <td>-0.442866</td>\n",
       "      <td>0.081457</td>\n",
       "      <td>-0.457816</td>\n",
       "      <td>-0.235887</td>\n",
       "      <td>1.000000</td>\n",
       "      <td>0.402923</td>\n",
       "      <td>0.520464</td>\n",
       "      <td>-0.220199</td>\n",
       "      <td>-0.330276</td>\n",
       "      <td>0.038412</td>\n",
       "      <td>0.163697</td>\n",
       "      <td>-0.006882</td>\n",
       "    </tr>\n",
       "    <tr>\n",
       "      <td>love</td>\n",
       "      <td>-0.242966</td>\n",
       "      <td>-0.037367</td>\n",
       "      <td>-0.249769</td>\n",
       "      <td>-0.134069</td>\n",
       "      <td>0.402923</td>\n",
       "      <td>1.000000</td>\n",
       "      <td>0.265651</td>\n",
       "      <td>-0.107437</td>\n",
       "      <td>-0.166897</td>\n",
       "      <td>-0.019320</td>\n",
       "      <td>0.098579</td>\n",
       "      <td>-0.009031</td>\n",
       "    </tr>\n",
       "    <tr>\n",
       "      <td>optimism</td>\n",
       "      <td>-0.374092</td>\n",
       "      <td>0.130001</td>\n",
       "      <td>-0.407485</td>\n",
       "      <td>-0.175820</td>\n",
       "      <td>0.520464</td>\n",
       "      <td>0.265651</td>\n",
       "      <td>1.000000</td>\n",
       "      <td>-0.172575</td>\n",
       "      <td>-0.281325</td>\n",
       "      <td>-0.016920</td>\n",
       "      <td>0.252666</td>\n",
       "      <td>0.050996</td>\n",
       "    </tr>\n",
       "    <tr>\n",
       "      <td>pessimism</td>\n",
       "      <td>-0.036596</td>\n",
       "      <td>-0.064773</td>\n",
       "      <td>0.035226</td>\n",
       "      <td>0.104849</td>\n",
       "      <td>-0.220199</td>\n",
       "      <td>-0.107437</td>\n",
       "      <td>-0.172575</td>\n",
       "      <td>1.000000</td>\n",
       "      <td>0.304080</td>\n",
       "      <td>-0.038704</td>\n",
       "      <td>-0.070771</td>\n",
       "      <td>0.005824</td>\n",
       "    </tr>\n",
       "    <tr>\n",
       "      <td>sadness</td>\n",
       "      <td>0.078355</td>\n",
       "      <td>-0.123996</td>\n",
       "      <td>0.159333</td>\n",
       "      <td>0.066865</td>\n",
       "      <td>-0.330276</td>\n",
       "      <td>-0.166897</td>\n",
       "      <td>-0.281325</td>\n",
       "      <td>0.304080</td>\n",
       "      <td>1.000000</td>\n",
       "      <td>-0.048834</td>\n",
       "      <td>-0.115241</td>\n",
       "      <td>0.008893</td>\n",
       "    </tr>\n",
       "    <tr>\n",
       "      <td>surprise</td>\n",
       "      <td>-0.055887</td>\n",
       "      <td>0.118370</td>\n",
       "      <td>-0.053027</td>\n",
       "      <td>-0.012839</td>\n",
       "      <td>0.038412</td>\n",
       "      <td>-0.019320</td>\n",
       "      <td>-0.016920</td>\n",
       "      <td>-0.038704</td>\n",
       "      <td>-0.048834</td>\n",
       "      <td>1.000000</td>\n",
       "      <td>0.006329</td>\n",
       "      <td>-0.021239</td>\n",
       "    </tr>\n",
       "    <tr>\n",
       "      <td>trust</td>\n",
       "      <td>-0.150728</td>\n",
       "      <td>0.123825</td>\n",
       "      <td>-0.162280</td>\n",
       "      <td>-0.062824</td>\n",
       "      <td>0.163697</td>\n",
       "      <td>0.098579</td>\n",
       "      <td>0.252666</td>\n",
       "      <td>-0.070771</td>\n",
       "      <td>-0.115241</td>\n",
       "      <td>0.006329</td>\n",
       "      <td>1.000000</td>\n",
       "      <td>0.025983</td>\n",
       "    </tr>\n",
       "    <tr>\n",
       "      <td>lengths</td>\n",
       "      <td>0.052817</td>\n",
       "      <td>0.019885</td>\n",
       "      <td>0.046841</td>\n",
       "      <td>-0.001643</td>\n",
       "      <td>-0.006882</td>\n",
       "      <td>-0.009031</td>\n",
       "      <td>0.050996</td>\n",
       "      <td>0.005824</td>\n",
       "      <td>0.008893</td>\n",
       "      <td>-0.021239</td>\n",
       "      <td>0.025983</td>\n",
       "      <td>1.000000</td>\n",
       "    </tr>\n",
       "  </tbody>\n",
       "</table>\n",
       "</div>"
      ],
      "text/plain": [
       "                 anger  anticipation   disgust      fear       joy      love  \\\n",
       "anger         1.000000     -0.170124  0.682969 -0.047142 -0.442866 -0.242966   \n",
       "anticipation -0.170124      1.000000 -0.152412 -0.019108  0.081457 -0.037367   \n",
       "disgust       0.682969     -0.152412  1.000000  0.003432 -0.457816 -0.249769   \n",
       "fear         -0.047142     -0.019108  0.003432  1.000000 -0.235887 -0.134069   \n",
       "joy          -0.442866      0.081457 -0.457816 -0.235887  1.000000  0.402923   \n",
       "love         -0.242966     -0.037367 -0.249769 -0.134069  0.402923  1.000000   \n",
       "optimism     -0.374092      0.130001 -0.407485 -0.175820  0.520464  0.265651   \n",
       "pessimism    -0.036596     -0.064773  0.035226  0.104849 -0.220199 -0.107437   \n",
       "sadness       0.078355     -0.123996  0.159333  0.066865 -0.330276 -0.166897   \n",
       "surprise     -0.055887      0.118370 -0.053027 -0.012839  0.038412 -0.019320   \n",
       "trust        -0.150728      0.123825 -0.162280 -0.062824  0.163697  0.098579   \n",
       "lengths       0.052817      0.019885  0.046841 -0.001643 -0.006882 -0.009031   \n",
       "\n",
       "              optimism  pessimism   sadness  surprise     trust   lengths  \n",
       "anger        -0.374092  -0.036596  0.078355 -0.055887 -0.150728  0.052817  \n",
       "anticipation  0.130001  -0.064773 -0.123996  0.118370  0.123825  0.019885  \n",
       "disgust      -0.407485   0.035226  0.159333 -0.053027 -0.162280  0.046841  \n",
       "fear         -0.175820   0.104849  0.066865 -0.012839 -0.062824 -0.001643  \n",
       "joy           0.520464  -0.220199 -0.330276  0.038412  0.163697 -0.006882  \n",
       "love          0.265651  -0.107437 -0.166897 -0.019320  0.098579 -0.009031  \n",
       "optimism      1.000000  -0.172575 -0.281325 -0.016920  0.252666  0.050996  \n",
       "pessimism    -0.172575   1.000000  0.304080 -0.038704 -0.070771  0.005824  \n",
       "sadness      -0.281325   0.304080  1.000000 -0.048834 -0.115241  0.008893  \n",
       "surprise     -0.016920  -0.038704 -0.048834  1.000000  0.006329 -0.021239  \n",
       "trust         0.252666  -0.070771 -0.115241  0.006329  1.000000  0.025983  \n",
       "lengths       0.050996   0.005824  0.008893 -0.021239  0.025983  1.000000  "
      ]
     },
     "execution_count": 13,
     "metadata": {},
     "output_type": "execute_result"
    }
   ],
   "source": [
    "train.corr()"
   ]
  },
  {
   "cell_type": "code",
   "execution_count": 14,
   "metadata": {},
   "outputs": [],
   "source": [
    "import seaborn as sns"
   ]
  },
  {
   "cell_type": "code",
   "execution_count": 15,
   "metadata": {},
   "outputs": [
    {
     "data": {
      "text/plain": [
       "<matplotlib.axes._subplots.AxesSubplot at 0x7fbeccf0e910>"
      ]
     },
     "execution_count": 15,
     "metadata": {},
     "output_type": "execute_result"
    },
    {
     "data": {
      "image/png": "[encoded data removed]",
      "text/plain": [
       "<Figure size 792x648 with 2 Axes>"
      ]
     },
     "metadata": {
      "needs_background": "light"
     },
     "output_type": "display_data"
    }
   ],
   "source": [
    "plt.subplots(figsize=(11,9))\n",
    "sns.heatmap(train.corr())"
   ]
  },
  {
   "cell_type": "markdown",
   "metadata": {},
   "source": [
    "# Class Balance for all Labels"
   ]
  },
  {
   "cell_type": "code",
   "execution_count": 16,
   "metadata": {},
   "outputs": [
    {
     "data": {
      "text/plain": [
       "anger\n",
       "0    4294\n",
       "1    2544\n",
       "dtype: int64"
      ]
     },
     "execution_count": 16,
     "metadata": {},
     "output_type": "execute_result"
    }
   ],
   "source": [
    "g_anger = train.groupby(\"anger\").size()\n",
    "g_anger"
   ]
  },
  {
   "cell_type": "code",
   "execution_count": 17,
   "metadata": {},
   "outputs": [
    {
     "data": {
      "text/plain": [
       "<matplotlib.axes._subplots.AxesSubplot at 0x7fbec92ac250>"
      ]
     },
     "execution_count": 17,
     "metadata": {},
     "output_type": "execute_result"
    },
    {
     "data": {
      "image/png": "[encoded data removed]",
      "text/plain": [
       "<Figure size 432x288 with 1 Axes>"
      ]
     },
     "metadata": {
      "needs_background": "light"
     },
     "output_type": "display_data"
    }
   ],
   "source": [
    "g_anger.plot.bar()"
   ]
  },
  {
   "cell_type": "code",
   "execution_count": 18,
   "metadata": {},
   "outputs": [
    {
     "data": {
      "text/plain": [
       "anticipation\n",
       "0    5860\n",
       "1     978\n",
       "dtype: int64"
      ]
     },
     "execution_count": 18,
     "metadata": {},
     "output_type": "execute_result"
    }
   ],
   "source": [
    "g_anticipation = train.groupby(\"anticipation\").size()\n",
    "g_anticipation"
   ]
  },
  {
   "cell_type": "code",
   "execution_count": 19,
   "metadata": {},
   "outputs": [
    {
     "data": {
      "text/plain": [
       "<matplotlib.axes._subplots.AxesSubplot at 0x7fbec9517350>"
      ]
     },
     "execution_count": 19,
     "metadata": {},
     "output_type": "execute_result"
    },
    {
     "data": {
      "image/png": "[encoded data removed]",
      "text/plain": [
       "<Figure size 432x288 with 1 Axes>"
      ]
     },
     "metadata": {
      "needs_background": "light"
     },
     "output_type": "display_data"
    }
   ],
   "source": [
    "g_anticipation.plot.bar()"
   ]
  },
  {
   "cell_type": "code",
   "execution_count": 20,
   "metadata": {},
   "outputs": [
    {
     "data": {
      "text/plain": [
       "disgust\n",
       "0    4236\n",
       "1    2602\n",
       "dtype: int64"
      ]
     },
     "execution_count": 20,
     "metadata": {},
     "output_type": "execute_result"
    }
   ],
   "source": [
    "g_disgust = train.groupby(\"disgust\").size()\n",
    "g_disgust"
   ]
  },
  {
   "cell_type": "code",
   "execution_count": 21,
   "metadata": {},
   "outputs": [
    {
     "data": {
      "text/plain": [
       "<matplotlib.axes._subplots.AxesSubplot at 0x7fbec9476890>"
      ]
     },
     "execution_count": 21,
     "metadata": {},
     "output_type": "execute_result"
    },
    {
     "data": {
      "image/png": "[encoded data removed]",
      "text/plain": [
       "<Figure size 432x288 with 1 Axes>"
      ]
     },
     "metadata": {
      "needs_background": "light"
     },
     "output_type": "display_data"
    }
   ],
   "source": [
    "g_disgust.plot.bar()"
   ]
  },
  {
   "cell_type": "code",
   "execution_count": 22,
   "metadata": {},
   "outputs": [
    {
     "data": {
      "text/plain": [
       "fear\n",
       "0    5596\n",
       "1    1242\n",
       "dtype: int64"
      ]
     },
     "execution_count": 22,
     "metadata": {},
     "output_type": "execute_result"
    }
   ],
   "source": [
    "g_fear = train.groupby(\"fear\").size()\n",
    "g_fear"
   ]
  },
  {
   "cell_type": "code",
   "execution_count": 23,
   "metadata": {},
   "outputs": [
    {
     "data": {
      "text/plain": [
       "<matplotlib.axes._subplots.AxesSubplot at 0x7fbec93fb450>"
      ]
     },
     "execution_count": 23,
     "metadata": {},
     "output_type": "execute_result"
    },
    {
     "data": {
      "image/png": "[encoded data removed]",
      "text/plain": [
       "<Figure size 432x288 with 1 Axes>"
      ]
     },
     "metadata": {
      "needs_background": "light"
     },
     "output_type": "display_data"
    }
   ],
   "source": [
    "g_fear.plot.bar()"
   ]
  },
  {
   "cell_type": "code",
   "execution_count": 24,
   "metadata": {},
   "outputs": [
    {
     "data": {
      "text/plain": [
       "joy\n",
       "0    4361\n",
       "1    2477\n",
       "dtype: int64"
      ]
     },
     "execution_count": 24,
     "metadata": {},
     "output_type": "execute_result"
    }
   ],
   "source": [
    "g_joy = train.groupby(\"joy\").size()\n",
    "g_joy"
   ]
  },
  {
   "cell_type": "code",
   "execution_count": 25,
   "metadata": {},
   "outputs": [
    {
     "data": {
      "text/plain": [
       "<matplotlib.axes._subplots.AxesSubplot at 0x7fbec93be110>"
      ]
     },
     "execution_count": 25,
     "metadata": {},
     "output_type": "execute_result"
    },
    {
     "data": {
      "image/png": "[encoded data removed]",
      "text/plain": [
       "<Figure size 432x288 with 1 Axes>"
      ]
     },
     "metadata": {
      "needs_background": "light"
     },
     "output_type": "display_data"
    }
   ],
   "source": [
    "g_joy.plot.bar()"
   ]
  },
  {
   "cell_type": "code",
   "execution_count": 26,
   "metadata": {},
   "outputs": [
    {
     "data": {
      "text/plain": [
       "love\n",
       "0    6138\n",
       "1     700\n",
       "dtype: int64"
      ]
     },
     "execution_count": 26,
     "metadata": {},
     "output_type": "execute_result"
    }
   ],
   "source": [
    "g_love = train.groupby(\"love\").size()\n",
    "g_love"
   ]
  },
  {
   "cell_type": "code",
   "execution_count": 27,
   "metadata": {},
   "outputs": [
    {
     "data": {
      "text/plain": [
       "<matplotlib.axes._subplots.AxesSubplot at 0x7fbec9112510>"
      ]
     },
     "execution_count": 27,
     "metadata": {},
     "output_type": "execute_result"
    },
    {
     "data": {
      "image/png": "[encoded data removed]",
      "text/plain": [
       "<Figure size 432x288 with 1 Axes>"
      ]
     },
     "metadata": {
      "needs_background": "light"
     },
     "output_type": "display_data"
    }
   ],
   "source": [
    "g_love.plot.bar()"
   ]
  },
  {
   "cell_type": "code",
   "execution_count": 28,
   "metadata": {},
   "outputs": [
    {
     "data": {
      "text/plain": [
       "optimism\n",
       "0    4854\n",
       "1    1984\n",
       "dtype: int64"
      ]
     },
     "execution_count": 28,
     "metadata": {},
     "output_type": "execute_result"
    }
   ],
   "source": [
    "g_optimism = train.groupby(\"optimism\").size()\n",
    "g_optimism"
   ]
  },
  {
   "cell_type": "code",
   "execution_count": 29,
   "metadata": {},
   "outputs": [
    {
     "data": {
      "text/plain": [
       "<matplotlib.axes._subplots.AxesSubplot at 0x7fbec90868d0>"
      ]
     },
     "execution_count": 29,
     "metadata": {},
     "output_type": "execute_result"
    },
    {
     "data": {
      "image/png": "[encoded data removed]",
      "text/plain": [
       "<Figure size 432x288 with 1 Axes>"
      ]
     },
     "metadata": {
      "needs_background": "light"
     },
     "output_type": "display_data"
    }
   ],
   "source": [
    "g_optimism.plot.bar()"
   ]
  },
  {
   "cell_type": "code",
   "execution_count": 30,
   "metadata": {},
   "outputs": [
    {
     "data": {
      "text/plain": [
       "pessimism\n",
       "0    6043\n",
       "1     795\n",
       "dtype: int64"
      ]
     },
     "execution_count": 30,
     "metadata": {},
     "output_type": "execute_result"
    }
   ],
   "source": [
    "\n",
    "g_pessimism = train.groupby(\"pessimism\").size()\n",
    "g_pessimism"
   ]
  },
  {
   "cell_type": "code",
   "execution_count": 31,
   "metadata": {},
   "outputs": [
    {
     "data": {
      "text/plain": [
       "<matplotlib.axes._subplots.AxesSubplot at 0x7fbec8fec410>"
      ]
     },
     "execution_count": 31,
     "metadata": {},
     "output_type": "execute_result"
    },
    {
     "data": {
      "image/png": "[encoded data removed]",
      "text/plain": [
       "<Figure size 432x288 with 1 Axes>"
      ]
     },
     "metadata": {
      "needs_background": "light"
     },
     "output_type": "display_data"
    }
   ],
   "source": [
    "g_pessimism.plot.bar()"
   ]
  },
  {
   "cell_type": "code",
   "execution_count": 32,
   "metadata": {},
   "outputs": [
    {
     "data": {
      "text/plain": [
       "sadness\n",
       "0    4830\n",
       "1    2008\n",
       "dtype: int64"
      ]
     },
     "execution_count": 32,
     "metadata": {},
     "output_type": "execute_result"
    }
   ],
   "source": [
    "g_sadness = train.groupby(\"sadness\").size()\n",
    "g_sadness"
   ]
  },
  {
   "cell_type": "code",
   "execution_count": 33,
   "metadata": {},
   "outputs": [
    {
     "data": {
      "text/plain": [
       "<matplotlib.axes._subplots.AxesSubplot at 0x7fbec8fdfe50>"
      ]
     },
     "execution_count": 33,
     "metadata": {},
     "output_type": "execute_result"
    },
    {
     "data": {
      "image/png": "[encoded data removed]",
      "text/plain": [
       "<Figure size 432x288 with 1 Axes>"
      ]
     },
     "metadata": {
      "needs_background": "light"
     },
     "output_type": "display_data"
    }
   ],
   "source": [
    "g_sadness.plot.bar()"
   ]
  },
  {
   "cell_type": "code",
   "execution_count": 34,
   "metadata": {},
   "outputs": [
    {
     "data": {
      "text/plain": [
       "surprise\n",
       "0    6477\n",
       "1     361\n",
       "dtype: int64"
      ]
     },
     "execution_count": 34,
     "metadata": {},
     "output_type": "execute_result"
    }
   ],
   "source": [
    "surprise = train.groupby(\"surprise\").size()\n",
    "surprise"
   ]
  },
  {
   "cell_type": "code",
   "execution_count": 35,
   "metadata": {},
   "outputs": [
    {
     "data": {
      "text/plain": [
       "<matplotlib.axes._subplots.AxesSubplot at 0x7fbec8f39e50>"
      ]
     },
     "execution_count": 35,
     "metadata": {},
     "output_type": "execute_result"
    },
    {
     "data": {
      "image/png": "[encoded data removed]",
      "text/plain": [
       "<Figure size 432x288 with 1 Axes>"
      ]
     },
     "metadata": {
      "needs_background": "light"
     },
     "output_type": "display_data"
    }
   ],
   "source": [
    "surprise.plot.bar()\n"
   ]
  },
  {
   "cell_type": "code",
   "execution_count": 36,
   "metadata": {},
   "outputs": [
    {
     "data": {
      "text/plain": [
       "trust\n",
       "0    6481\n",
       "1     357\n",
       "dtype: int64"
      ]
     },
     "execution_count": 36,
     "metadata": {},
     "output_type": "execute_result"
    }
   ],
   "source": [
    "trust = train.groupby(\"trust\").size()\n",
    "trust"
   ]
  },
  {
   "cell_type": "code",
   "execution_count": 37,
   "metadata": {},
   "outputs": [
    {
     "data": {
      "text/plain": [
       "<matplotlib.axes._subplots.AxesSubplot at 0x7fbec8f0d410>"
      ]
     },
     "execution_count": 37,
     "metadata": {},
     "output_type": "execute_result"
    },
    {
     "data": {
      "image/png": "[encoded data removed]",
      "text/plain": [
       "<Figure size 432x288 with 1 Axes>"
      ]
     },
     "metadata": {
      "needs_background": "light"
     },
     "output_type": "display_data"
    }
   ],
   "source": [
    "trust.plot.bar()\n"
   ]
  },
  {
   "cell_type": "markdown",
   "metadata": {},
   "source": [
    "# Number of Emotions per Tweet"
   ]
  },
  {
   "cell_type": "code",
   "execution_count": 39,
   "metadata": {},
   "outputs": [],
   "source": [
    "train['total_emotions'] = train.apply(lambda x: x['anger']+x['anticipation']+x['disgust']+x['fear']+x['joy']+x['love']+x['optimism']+x['pessimism']+x['sadness']+x['surprise']+x['trust'], axis=1)"
   ]
  },
  {
   "cell_type": "code",
   "execution_count": 40,
   "metadata": {},
   "outputs": [
    {
     "data": {
      "text/plain": [
       "total_emotions\n",
       "0     204\n",
       "1     982\n",
       "2    2773\n",
       "3    2114\n",
       "4     658\n",
       "5      96\n",
       "6      11\n",
       "dtype: int64"
      ]
     },
     "execution_count": 40,
     "metadata": {},
     "output_type": "execute_result"
    }
   ],
   "source": [
    "train.groupby(\"total_emotions\").size()"
   ]
  },
  {
   "cell_type": "code",
   "execution_count": 41,
   "metadata": {},
   "outputs": [
    {
     "data": {
      "text/plain": [
       "<matplotlib.axes._subplots.AxesSubplot at 0x7fbec8e9d090>"
      ]
     },
     "execution_count": 41,
     "metadata": {},
     "output_type": "execute_result"
    },
    {
     "data": {
      "image/png": "[encoded data removed]",
      "text/plain": [
       "<Figure size 432x288 with 1 Axes>"
      ]
     },
     "metadata": {
      "needs_background": "light"
     },
     "output_type": "display_data"
    }
   ],
   "source": [
    "train.groupby(\"total_emotions\").size().plot.bar()\n"
   ]
  },
  {
   "cell_type": "markdown",
   "metadata": {},
   "source": [
    "# Number of Tokens Distribution"
   ]
  },
  {
   "cell_type": "code",
   "execution_count": 44,
   "metadata": {},
   "outputs": [
    {
     "data": {
      "text/plain": [
       "<matplotlib.axes._subplots.AxesSubplot at 0x7fbec8c54490>"
      ]
     },
     "execution_count": 44,
     "metadata": {},
     "output_type": "execute_result"
    },
    {
     "data": {
      "image/png": "[encoded data removed]",
      "text/plain": [
       "<Figure size 432x288 with 1 Axes>"
      ]
     },
     "metadata": {
      "needs_background": "light"
     },
     "output_type": "display_data"
    }
   ],
   "source": [
    "train.lengths.plot.hist()"
   ]
  },
  {
   "cell_type": "code",
   "execution_count": null,
   "metadata": {},
   "outputs": [],
   "source": []
  }
 ],
 "metadata": {
  "kernelspec": {
   "display_name": "Python 3",
   "language": "python",
   "name": "python3"
  },
  "language_info": {
   "codemirror_mode": {
    "name": "ipython",
    "version": 3
   },
   "file_extension": ".py",
   "mimetype": "text/x-python",
   "name": "python",
   "nbconvert_exporter": "python",
   "pygments_lexer": "ipython3",
   "version": "3.7.4"
  }
 },
 "nbformat": 4,
 "nbformat_minor": 2
}
